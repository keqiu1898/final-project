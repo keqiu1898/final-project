{
  "nbformat": 4,
  "nbformat_minor": 0,
  "metadata": {
    "colab": {
      "provenance": [],
      "collapsed_sections": [
        "GEXD7yOz5xuN",
        "uMx_ZjebaHPB",
        "KggpNLVgaNvg"
      ],
      "machine_shape": "hm",
      "authorship_tag": "ABX9TyMKxT+BUwmPsdIoUKJl2+BQ",
      "include_colab_link": true
    },
    "kernelspec": {
      "name": "python3",
      "display_name": "Python 3"
    },
    "language_info": {
      "name": "python"
    },
    "accelerator": "GPU",
    "gpuClass": "standard"
  },
  "cells": [
    {
      "cell_type": "markdown",
      "metadata": {
        "id": "view-in-github",
        "colab_type": "text"
      },
      "source": [
        "<a href=\"https://colab.research.google.com/github/keqiu1898/final-project/blob/main/websiteapp.ipynb\" target=\"_parent\"><img src=\"https://colab.research.google.com/assets/colab-badge.svg\" alt=\"Open In Colab\"/></a>"
      ]
    },
    {
      "cell_type": "markdown",
      "source": [
        "## **Backgroud**"
      ],
      "metadata": {
        "id": "nPp43oAOaV32"
      }
    },
    {
      "cell_type": "markdown",
      "source": [
        "A biopsy with a thorough pathological examination is the gold standard for determining if a suspicious mole is cancerous. However, biopsies are not always needed or appropriate due to the associated costs or preexisting conditions that make healing more difficult. It is especially true for sensitive areas like the face or ears. Biopsies can also cause undue stress and anxiety for patients and their loved ones. \n",
        "\n",
        "Due to these concerns, we are turning to non-invasive techniques that can give us helpful information instead of – or before – a traditional biopsy. We built a model that automatically classifies skin images into eleven categories: five benign skin lesions - nevus; keratosis including seborrheic keratosis, pigmented benign keratosis, lichenoid keratosis; lentigo including solar lentigo, lentigo NOS, and lentigo simplex; dermatofibroma and all the other benign skin lesion like scars, angioma, neurofibroma, verruca, acrochordon, etc. included in the category named other benign skin lesions. Three skin cancers: melanoma, basal cell carcinoma, and squamous cell carcinoma. Three indeterminate skin lesions are called actinic keratosis, vascular lesion, and all other indeterminate skin lesions. \n",
        "Our model requests users to upload a clear skin lesion image to make our classification more accurate. The training data are from ISIC. It is challenging owing to the fine-grained variability in the appearance of skin lesions. Luckily, our model works well using a search tree combined with convolutional neural networks. "
      ],
      "metadata": {
        "id": "Yldc_AIv5Y6J"
      }
    },
    {
      "cell_type": "markdown",
      "source": [
        "## **Libraries**"
      ],
      "metadata": {
        "id": "lvHdnnWbaRKm"
      }
    },
    {
      "cell_type": "code",
      "execution_count": null,
      "metadata": {
        "id": "gCci7EaE5km4"
      },
      "outputs": [],
      "source": [
        "!pip install gradio"
      ]
    },
    {
      "cell_type": "code",
      "source": [
        "import gradio as gr\n",
        "import matplotlib.pyplot as plt\n",
        "import numpy as np\n",
        "import os\n",
        "from PIL import Image\n",
        "import tensorflow as tf\n",
        "from tensorflow import keras\n",
        "from tensorflow.keras import layers\n",
        "from tensorflow.keras.models import Sequential"
      ],
      "metadata": {
        "id": "SaIhJvI450LZ"
      },
      "execution_count": 3,
      "outputs": []
    },
    {
      "cell_type": "code",
      "source": [
        "from google.colab import drive\n",
        "drive.mount(\"/content/gdrive/\", force_remount=True)\n",
        "import numpy as np\n",
        "\n",
        "from PIL import Image\n",
        "import requests\n",
        "from io import BytesIO"
      ],
      "metadata": {
        "colab": {
          "base_uri": "https://localhost:8080/"
        },
        "id": "3zrmq4B369RD",
        "outputId": "42b0a2ad-0755-4713-964a-e8f53adf4e78"
      },
      "execution_count": 4,
      "outputs": [
        {
          "output_type": "stream",
          "name": "stdout",
          "text": [
            "Mounted at /content/gdrive/\n"
          ]
        }
      ]
    },
    {
      "cell_type": "markdown",
      "source": [
        "## **Structure**"
      ],
      "metadata": {
        "id": "GEXD7yOz5xuN"
      }
    },
    {
      "cell_type": "markdown",
      "source": [
        "**Step 1**"
      ],
      "metadata": {
        "id": "Diupii60kik4"
      }
    },
    {
      "cell_type": "markdown",
      "source": [
        "**invalid - 0 ; valid - 1**"
      ],
      "metadata": {
        "id": "CLtMHkoyh0bq"
      }
    },
    {
      "cell_type": "markdown",
      "source": [
        "**Step 2**"
      ],
      "metadata": {
        "id": "WPMr1zoSuWAm"
      }
    },
    {
      "cell_type": "markdown",
      "source": [
        "**determinate - 0 ; indeterminate - 1**"
      ],
      "metadata": {
        "id": "EAjJP9MUhu2X"
      }
    },
    {
      "cell_type": "markdown",
      "source": [
        "**step 3**"
      ],
      "metadata": {
        "id": "yonTN0KZu69y"
      }
    },
    {
      "cell_type": "markdown",
      "source": [
        "**benign - 0 ; malignant - 1**"
      ],
      "metadata": {
        "id": "ktrHLRE_hnlP"
      }
    },
    {
      "cell_type": "markdown",
      "source": [
        "**step4-1**"
      ],
      "metadata": {
        "id": "ojMVNDkgvPw8"
      }
    },
    {
      "cell_type": "markdown",
      "source": [
        "**keratosis - 0, lentigo - 1, nevus - 2, dermatofibroma - 3, neurofibroma - 4**\n",
        "\n"
      ],
      "metadata": {
        "id": "Lv2VAZ92v4c-"
      }
    },
    {
      "cell_type": "markdown",
      "source": [
        "**step4-2**"
      ],
      "metadata": {
        "id": "dhjbmqOfvjay"
      }
    },
    {
      "cell_type": "markdown",
      "source": [
        "**melanoma - 0, basal_cell_carcinoma - 1, squamous_cell_carcinoma - 2**\n",
        "\n"
      ],
      "metadata": {
        "id": "Xbb9xHpPxC8N"
      }
    },
    {
      "cell_type": "markdown",
      "source": [
        "**step 4-3**"
      ],
      "metadata": {
        "id": "soeMYSvO_4rF"
      }
    },
    {
      "cell_type": "markdown",
      "source": [
        "**actinic keratosis - 0, vascular lesion - 1, and others - 2**."
      ],
      "metadata": {
        "id": "pWzuS7YJA6pt"
      }
    },
    {
      "cell_type": "markdown",
      "source": [
        "## **Model Uploading**"
      ],
      "metadata": {
        "id": "uMx_ZjebaHPB"
      }
    },
    {
      "cell_type": "code",
      "source": [
        "#classes = ['invalid', 'valid']\n",
        "\n",
        "firststep = keras.models.load_model('/content/gdrive/MyDrive/ColabNotebooks/lastversionskincancer/Valid_Invalid_ResNet')\n",
        "secondstep = keras.models.load_model('/content/gdrive/MyDrive/ColabNotebooks/lastversionskincancer/Deter_Indeter_ResNet')\n",
        "thirdstep = keras.models.load_model('/content/gdrive/MyDrive/ColabNotebooks/lastversionskincancer/BM_AlexNet')\n",
        "fourth_one = keras.models.load_model('/content/gdrive/MyDrive/ColabNotebooks/lastversionskincancer/benign_DenseNet')\n",
        "fourth_two = keras.models.load_model('/content/gdrive/MyDrive/ColabNotebooks/lastversionskincancer/malignant_VGG')\n",
        "fourth_three = keras.models.load_model('/content/gdrive/MyDrive/ColabNotebooks/lastversionskincancer/indeterminate_ResNet101V2')\n"
      ],
      "metadata": {
        "id": "6w_bgEHTHIVv"
      },
      "execution_count": 5,
      "outputs": []
    },
    {
      "cell_type": "markdown",
      "source": [
        "## **Searching Tree**"
      ],
      "metadata": {
        "id": "KggpNLVgaNvg"
      }
    },
    {
      "cell_type": "code",
      "source": [
        "\n",
        "def predict_lesion(img):\n",
        "  #img_3d = np.array(img, dtype = 'uint8')/255\n",
        "  # im_resize = img_3d.reshape(-1, 250, 250, 3)\n",
        "  im_resize = np.array([img],  dtype='uint8')/255\n",
        "\n",
        "  # step 1\n",
        "  pred_invalid = np.argmax(firststep.predict(im_resize, verbose = 1), axis=1)\n",
        "  if pred_invalid[0] == 0: # an invalid skin image\n",
        "      out = 'Please Upload a Clear Image of Skin Lesion.'\n",
        "      return out\n",
        "  pred_deter = np.argmax(secondstep.predict(im_resize, verbose = 1), axis=1) \n",
        "  if pred_deter[0] == 1:  # an indeterminate skin lesion\n",
        "     pred_indeter_class = np.argmax(fourth_three.predict(im_resize, verbose = 1), axis=1)\n",
        "     out = ' it is an INDETERMINATE skin lesion; please consult a dermatologist further. '\n",
        "     if pred_indeter_class[0] == 0:\n",
        "        return ' most likely Actinic Keratosis; ' + out\n",
        "     elif pred_indeter_class[0] == 1:\n",
        "        return  ' most likely Vascular Lesion; ' +out\n",
        "     else:\n",
        "       return ' hard to give a specific lesion name; ' + out\n",
        "  pred_BM = np.argmax(thirdstep.predict(im_resize, verbose = 1), axis=1) \n",
        "  if pred_BM[0] == 0: # it is a benign skin lesion\n",
        "     pred_benign_class = np.argmax(fourth_one.predict(im_resize, verbose = 1), axis=1)\n",
        "     out = 'It is a BENIGN skin lesion; '\n",
        "     if pred_benign_class[0] == 0:\n",
        "        return out + ' most likely (benign) Keratosis.'\n",
        "     elif pred_benign_class[0] == 1:\n",
        "        return out + ' most likely Lentigo.'\n",
        "     elif pred_benign_class[0] == 2:\n",
        "        return out + ' most likely Nevus.'\n",
        "     elif pred_benign_class[0] == 3:\n",
        "        return out + ' most likely Dermatofibroma.'        \n",
        "     else:\n",
        "       return out + 'but hard to give a specific lesion name.'\n",
        "\n",
        "  pred_malignant_class = np.argmax(fourth_two.predict(im_resize, verbose = 1), axis=1)\n",
        "  out = 'It is SKIN CANCER ! '\n",
        "  if pred_malignant_class[0] == 0:\n",
        "      return out + ' most likely Melanoma!'\n",
        "  elif pred_malignant_class[0] == 1:\n",
        "      return out + ' most likely Basal Cell Carcinoma!'\n",
        "  return out + ' most likely Squamous Cell Carcinoma!' \n",
        "\n"
      ],
      "metadata": {
        "id": "Wpx-bR186nqT"
      },
      "execution_count": 9,
      "outputs": []
    },
    {
      "cell_type": "markdown",
      "source": [
        "## **Application**"
      ],
      "metadata": {
        "id": "Yhd6hb0JbdHj"
      }
    },
    {
      "cell_type": "code",
      "source": [
        "image = gr.inputs.Image(shape = (250,250))\n",
        "label = gr.outputs.Label(num_top_classes = 1)\n",
        "gr.Interface(fn=predict_lesion, inputs= image, outputs=label, capture_session = True).launch(debug = True, share= True)"
      ],
      "metadata": {
        "id": "-wX8osxM9pdk"
      },
      "execution_count": null,
      "outputs": []
    }
  ]
}